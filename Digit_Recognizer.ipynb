{
  "nbformat": 4,
  "nbformat_minor": 0,
  "metadata": {
    "colab": {
      "name": "Digit Recognizer",
      "version": "0.3.2",
      "views": {},
      "default_view": {},
      "provenance": [],
      "collapsed_sections": []
    },
    "kernelspec": {
      "name": "python3",
      "display_name": "Python 3"
    }
  },
  "cells": [
    {
      "metadata": {
        "id": "TP7I8bMbCY1x",
        "colab_type": "text"
      },
      "cell_type": "markdown",
      "source": [
        "In an attempt to enter the field of Machine Learning and Deep Learning, this notebook hopefully can be used as reference for future projects.\n",
        "\n",
        "This notebook will be covering the MNIST data set, which is considered the \"Hello World\" of Deep Learning"
      ]
    },
    {
      "metadata": {
        "id": "K37hNR1aIFGk",
        "colab_type": "text"
      },
      "cell_type": "markdown",
      "source": [
        "## **Importing All The Libraries Needed**"
      ]
    },
    {
      "metadata": {
        "id": "N2-Q4N5N8Xeg",
        "colab_type": "code",
        "colab": {
          "autoexec": {
            "startup": false,
            "wait_interval": 0
          },
          "base_uri": "https://localhost:8080/",
          "height": 34
        },
        "outputId": "8c115917-62fd-422a-ee53-1628f86adf9a",
        "executionInfo": {
          "status": "ok",
          "timestamp": 1532964203818,
          "user_tz": 240,
          "elapsed": 300,
          "user": {
            "displayName": "Jacob Lott",
            "photoUrl": "https://lh3.googleusercontent.com/a/default-user=s128",
            "userId": "110897982447459001979"
          }
        }
      },
      "cell_type": "code",
      "source": [
        "import numpy as np\n",
        "import pandas as pd\n",
        "from tensorflow.python import keras\n",
        "from tensorflow.python.keras.models import Sequential\n",
        "from tensorflow.python.keras.layers import Dense, Flatten, Conv2D, Dropout\n",
        "from keras.preprocessing.image import ImageDataGenerator\n",
        "from matplotlib import pyplot as plt\n",
        "import matplotlib.image as mpimg\n",
        "%matplotlib inline"
      ],
      "execution_count": 38,
      "outputs": [
        {
          "output_type": "stream",
          "text": [
            "Using TensorFlow backend.\n"
          ],
          "name": "stderr"
        }
      ]
    },
    {
      "metadata": {
        "id": "8XL7z33uqm2N",
        "colab_type": "text"
      },
      "cell_type": "markdown",
      "source": [
        "## Loading Datasets"
      ]
    },
    {
      "metadata": {
        "id": "uCu1HOS8qqnT",
        "colab_type": "code",
        "colab": {
          "autoexec": {
            "startup": false,
            "wait_interval": 0
          }
        }
      },
      "cell_type": "code",
      "source": [
        "train = pd.read_csv('drive/Colab Notebooks/Digit Recognizer/train.csv')\n",
        "test = pd.read_csv('drive/Colab Notebooks/Digit Recognizer/test.csv')\n",
        "\n"
      ],
      "execution_count": 0,
      "outputs": []
    },
    {
      "metadata": {
        "id": "qqCJ2LCnpnDr",
        "colab_type": "text"
      },
      "cell_type": "markdown",
      "source": [
        "## First Look At Our Dataset"
      ]
    },
    {
      "metadata": {
        "id": "4mChPDEups9j",
        "colab_type": "text"
      },
      "cell_type": "markdown",
      "source": [
        "There are a total of 784 pixels to each image and they are all given a number (label) 0-9. With 784 pixels to a square image that means we have a 28x28 grid."
      ]
    },
    {
      "metadata": {
        "id": "p4TC74Gbp2BK",
        "colab_type": "code",
        "colab": {
          "autoexec": {
            "startup": false,
            "wait_interval": 0
          },
          "base_uri": "https://localhost:8080/",
          "height": 391
        },
        "outputId": "f28e9052-042c-4bea-ae16-2d7dc4b1b415",
        "executionInfo": {
          "status": "ok",
          "timestamp": 1532964212716,
          "user_tz": 240,
          "elapsed": 198,
          "user": {
            "displayName": "Jacob Lott",
            "photoUrl": "https://lh3.googleusercontent.com/a/default-user=s128",
            "userId": "110897982447459001979"
          }
        }
      },
      "cell_type": "code",
      "source": [
        "print(train.head(5))"
      ],
      "execution_count": 40,
      "outputs": [
        {
          "output_type": "stream",
          "text": [
            "   label  pixel0  pixel1  pixel2  pixel3  pixel4  pixel5  pixel6  pixel7  \\\n",
            "0      1       0       0       0       0       0       0       0       0   \n",
            "1      0       0       0       0       0       0       0       0       0   \n",
            "2      1       0       0       0       0       0       0       0       0   \n",
            "3      4       0       0       0       0       0       0       0       0   \n",
            "4      0       0       0       0       0       0       0       0       0   \n",
            "\n",
            "   pixel8    ...     pixel774  pixel775  pixel776  pixel777  pixel778  \\\n",
            "0       0    ...            0         0         0         0         0   \n",
            "1       0    ...            0         0         0         0         0   \n",
            "2       0    ...            0         0         0         0         0   \n",
            "3       0    ...            0         0         0         0         0   \n",
            "4       0    ...            0         0         0         0         0   \n",
            "\n",
            "   pixel779  pixel780  pixel781  pixel782  pixel783  \n",
            "0         0         0         0         0         0  \n",
            "1         0         0         0         0         0  \n",
            "2         0         0         0         0         0  \n",
            "3         0         0         0         0         0  \n",
            "4         0         0         0         0         0  \n",
            "\n",
            "[5 rows x 785 columns]\n"
          ],
          "name": "stdout"
        }
      ]
    },
    {
      "metadata": {
        "id": "4IT6BFznJQ28",
        "colab_type": "text"
      },
      "cell_type": "markdown",
      "source": [
        "## **Preparing Data**"
      ]
    },
    {
      "metadata": {
        "id": "PNwLouAfrieo",
        "colab_type": "text"
      },
      "cell_type": "markdown",
      "source": [
        "We first need to do some \"cleaning\" of the data, including some one hot encoding and data reshaping."
      ]
    },
    {
      "metadata": {
        "id": "gie_rSGIrqup",
        "colab_type": "code",
        "colab": {
          "autoexec": {
            "startup": false,
            "wait_interval": 0
          }
        }
      },
      "cell_type": "code",
      "source": [
        "# Defining our inputs and replacing any na's with 0's (a whitespace)\n",
        "xTrain = train.fillna(0)\n",
        "xTest = test.fillna(0)\n",
        "\n",
        "# One hot encoding our labels\n",
        "from tensorflow.python.keras.utils.np_utils import to_categorical\n",
        "yTrain = to_categorical(xTrain['label'])\n",
        "del xTrain['label']\n",
        "\n",
        "# Reshape to look like an actual square\n",
        "xTrain = xTrain.values.reshape(-1,28,28,1)\n",
        "xTest = xTest.values.reshape(-1,28,28,1)"
      ],
      "execution_count": 0,
      "outputs": []
    },
    {
      "metadata": {
        "id": "5GX9q29pteIV",
        "colab_type": "text"
      },
      "cell_type": "markdown",
      "source": [
        "## Look At  Our Images"
      ]
    },
    {
      "metadata": {
        "id": "4dElguF8tkYY",
        "colab_type": "code",
        "colab": {
          "autoexec": {
            "startup": false,
            "wait_interval": 0
          },
          "base_uri": "https://localhost:8080/",
          "height": 268
        },
        "outputId": "f16d9636-0cc7-4b1f-fbab-93ac733850f6",
        "executionInfo": {
          "status": "ok",
          "timestamp": 1532964215148,
          "user_tz": 240,
          "elapsed": 1013,
          "user": {
            "displayName": "Jacob Lott",
            "photoUrl": "https://lh3.googleusercontent.com/a/default-user=s128",
            "userId": "110897982447459001979"
          }
        }
      },
      "cell_type": "code",
      "source": [
        "import random\n",
        "\n",
        "displayList = []\n",
        "\n",
        "# Pick out some random image\n",
        "for x in range(9):\n",
        "  displayList.append(random.randint(1, len(xTrain)+1))\n",
        "\n",
        "#Show them off\n",
        "for x in range(len(displayList)):\n",
        "  plt.subplot(331 + x )\n",
        "  plt.imshow(xTrain[displayList[x]][:,:,0])\n",
        "  \n",
        "  "
      ],
      "execution_count": 42,
      "outputs": [
        {
          "output_type": "display_data",
          "data": {
            "image/png": "[encoded data removed]",
            "text/plain": [
              "<matplotlib.figure.Figure at 0x7f928b938860>"
            ]
          },
          "metadata": {
            "tags": []
          }
        }
      ]
    },
    {
      "metadata": {
        "id": "HexFJvCLu5qK",
        "colab_type": "text"
      },
      "cell_type": "markdown",
      "source": [
        "## Create an Image Generator for Even More Images"
      ]
    },
    {
      "metadata": {
        "id": "uCJSmutbvBdk",
        "colab_type": "code",
        "colab": {
          "autoexec": {
            "startup": false,
            "wait_interval": 0
          }
        }
      },
      "cell_type": "code",
      "source": [
        "dataGenerator = ImageDataGenerator(zoom_range=.1, height_shift_range=.1, width_shift_range=.1)"
      ],
      "execution_count": 0,
      "outputs": []
    },
    {
      "metadata": {
        "id": "0CSjKY6VN110",
        "colab_type": "text"
      },
      "cell_type": "markdown",
      "source": [
        "## Building Our Neural Network"
      ]
    },
    {
      "metadata": {
        "id": "V2QiFNJ3vaj8",
        "colab_type": "text"
      },
      "cell_type": "markdown",
      "source": [
        "Here we'll be using Sequential, which is a kind of model Keras has. Keras has very easy to read documentation found at https://keras.io/\n",
        "\n",
        "I'll briefly explain each part of the Neural Network.\n",
        "\n",
        "**Sequential** - A linear stack of layers.\n",
        "\n",
        "**Conv2D** - A layer of spatial convolution over images.\n",
        "\n",
        "**Dropout** - Randomly chooses inputs to be ignored with a percent chance (.25 means 25% chance).\n",
        "\n",
        "**Flatten** - Flattens the input without affecting batch size.\n",
        "\n",
        "**Dense** - A densely connected Neural Network layer\n",
        "\n",
        "\n",
        "**Our layout:**\n",
        "\n",
        "2x 2D Convolution Layers (The first is our initial input)\n",
        "\n",
        "25% Dropout Layer\n",
        "\n",
        "2x 2D Convolution Layers\n",
        "\n",
        "25% Dropout Layer\n",
        "\n",
        "Flatten\n",
        "\n",
        "Dense Layer (Final Layer)\n",
        "\n"
      ]
    },
    {
      "metadata": {
        "id": "TYznDeerOCe9",
        "colab_type": "code",
        "colab": {
          "autoexec": {
            "startup": false,
            "wait_interval": 0
          }
        }
      },
      "cell_type": "code",
      "source": [
        "model = Sequential()\n",
        "\n",
        "# Input Layer\n",
        "model.add(Conv2D(20,kernel_size=(3,3),activation='relu', input_shape=(imageRows, imageCol, 1)))\n",
        "\n",
        "# Hidden Layers\n",
        "model.add(Conv2D(20,kernel_size=(3,3),activation='relu'))\n",
        "model.add(Dropout(.25))\n",
        "model.add(Conv2D(20,kernel_size=(3,3),activation='relu'))\n",
        "model.add(Conv2D(20,kernel_size=(3,3),activation='relu'))\n",
        "model.add(Dropout(.25))\n",
        "model.add(Flatten())\n",
        "model.add(Dense(10, activation='softmax'))"
      ],
      "execution_count": 0,
      "outputs": []
    },
    {
      "metadata": {
        "id": "vN2fRUr6PIAU",
        "colab_type": "text"
      },
      "cell_type": "markdown",
      "source": [
        "## Compiling The Model"
      ]
    },
    {
      "metadata": {
        "id": "3DQ2qAiBPKfc",
        "colab_type": "code",
        "colab": {
          "autoexec": {
            "startup": false,
            "wait_interval": 0
          }
        }
      },
      "cell_type": "code",
      "source": [
        "model.compile(loss=keras.losses.categorical_crossentropy, optimizer='adam', metrics=['accuracy'])"
      ],
      "execution_count": 0,
      "outputs": []
    },
    {
      "metadata": {
        "id": "_kW9oUrjPm48",
        "colab_type": "text"
      },
      "cell_type": "markdown",
      "source": [
        "## Fit The Model"
      ]
    },
    {
      "metadata": {
        "id": "44d-AQZ-PsFm",
        "colab_type": "code",
        "colab": {
          "autoexec": {
            "startup": false,
            "wait_interval": 0
          },
          "base_uri": "https://localhost:8080/",
          "height": 717
        },
        "outputId": "9b560a46-47f2-4e48-d423-fc06e0790269",
        "executionInfo": {
          "status": "ok",
          "timestamp": 1532965048106,
          "user_tz": 240,
          "elapsed": 652546,
          "user": {
            "displayName": "Jacob Lott",
            "photoUrl": "https://lh3.googleusercontent.com/a/default-user=s128",
            "userId": "110897982447459001979"
          }
        }
      },
      "cell_type": "code",
      "source": [
        "model.fit_generator(dataGenerator.flow(xTrain, yTrain, batch_size = 16),\n",
        "                    steps_per_epoch = 500,\n",
        "                   epochs=20)\n",
        "\n",
        "yPred = model.predict(xTest)"
      ],
      "execution_count": 48,
      "outputs": [
        {
          "output_type": "stream",
          "text": [
            "Epoch 1/20\n",
            "500/500 [==============================] - 31s 62ms/step - loss: 0.2561 - acc: 0.9225\n",
            "Epoch 2/20\n",
            "290/500 [================>.............] - ETA: 13s - loss: 0.2575 - acc: 0.9190"
          ],
          "name": "stdout"
        },
        {
          "output_type": "stream",
          "text": [
            "500/500 [==============================] - 31s 62ms/step - loss: 0.2448 - acc: 0.9216\n",
            "Epoch 3/20\n",
            "470/500 [===========================>..] - ETA: 1s - loss: 0.2032 - acc: 0.9332"
          ],
          "name": "stdout"
        },
        {
          "output_type": "stream",
          "text": [
            "500/500 [==============================] - 31s 62ms/step - loss: 0.2038 - acc: 0.9329\n",
            "Epoch 4/20\n",
            "500/500 [==============================] - 31s 62ms/step - loss: 0.1931 - acc: 0.9377\n",
            "Epoch 5/20\n",
            " 32/500 [>.............................] - ETA: 28s - loss: 0.1780 - acc: 0.9473"
          ],
          "name": "stdout"
        },
        {
          "output_type": "stream",
          "text": [
            "500/500 [==============================] - 30s 61ms/step - loss: 0.1662 - acc: 0.9500\n",
            "Epoch 6/20\n",
            "353/500 [====================>.........] - ETA: 8s - loss: 0.1751 - acc: 0.9458"
          ],
          "name": "stdout"
        },
        {
          "output_type": "stream",
          "text": [
            "500/500 [==============================] - 30s 61ms/step - loss: 0.1748 - acc: 0.9450\n",
            "Epoch 7/20\n",
            "499/500 [============================>.] - ETA: 0s - loss: 0.1820 - acc: 0.9445"
          ],
          "name": "stdout"
        },
        {
          "output_type": "stream",
          "text": [
            "\b\b\b\b\b\b\b\b\b\b\b\b\b\b\b\b\b\b\b\b\b\b\b\b\b\b\b\b\b\b\b\b\b\b\b\b\b\b\b\b\b\b\b\b\b\b\b\b\b\b\b\b\b\b\b\b\b\b\b\b\b\b\b\b\b\b\b\b\b\b\b\b\b\b\b\b\b\b\b\r500/500 [==============================] - 31s 62ms/step - loss: 0.1817 - acc: 0.9446\n",
            "Epoch 8/20\n",
            "387/500 [======================>.......] - ETA: 7s - loss: 0.1479 - acc: 0.9519"
          ],
          "name": "stdout"
        },
        {
          "output_type": "stream",
          "text": [
            "500/500 [==============================] - 32s 63ms/step - loss: 0.1515 - acc: 0.9529\n",
            "Epoch 9/20\n",
            "500/500 [==============================] - 31s 63ms/step - loss: 0.1631 - acc: 0.9520\n",
            "Epoch 10/20\n",
            "  8/500 [..............................] - ETA: 31s - loss: 0.0583 - acc: 0.9922"
          ],
          "name": "stdout"
        },
        {
          "output_type": "stream",
          "text": [
            "500/500 [==============================] - 31s 62ms/step - loss: 0.1430 - acc: 0.9547\n",
            "Epoch 11/20\n",
            "340/500 [===================>..........] - ETA: 9s - loss: 0.1430 - acc: 0.9566 "
          ],
          "name": "stdout"
        },
        {
          "output_type": "stream",
          "text": [
            "500/500 [==============================] - 31s 62ms/step - loss: 0.1462 - acc: 0.9570\n",
            "Epoch 12/20\n",
            "490/500 [============================>.] - ETA: 0s - loss: 0.1434 - acc: 0.9589"
          ],
          "name": "stdout"
        },
        {
          "output_type": "stream",
          "text": [
            "500/500 [==============================] - 31s 62ms/step - loss: 0.1430 - acc: 0.9589\n",
            "Epoch 13/20\n",
            "500/500 [==============================] - 31s 62ms/step - loss: 0.1357 - acc: 0.9569\n",
            "Epoch 14/20\n",
            " 36/500 [=>............................] - ETA: 29s - loss: 0.1078 - acc: 0.9705"
          ],
          "name": "stdout"
        },
        {
          "output_type": "stream",
          "text": [
            "500/500 [==============================] - 31s 63ms/step - loss: 0.1286 - acc: 0.9610\n",
            "Epoch 15/20\n",
            "351/500 [====================>.........] - ETA: 9s - loss: 0.1274 - acc: 0.9644"
          ],
          "name": "stdout"
        },
        {
          "output_type": "stream",
          "text": [
            "500/500 [==============================] - 31s 62ms/step - loss: 0.1258 - acc: 0.9654\n",
            "Epoch 16/20\n",
            "495/500 [============================>.] - ETA: 0s - loss: 0.1396 - acc: 0.9563"
          ],
          "name": "stdout"
        },
        {
          "output_type": "stream",
          "text": [
            "500/500 [==============================] - 31s 62ms/step - loss: 0.1395 - acc: 0.9561\n",
            "Epoch 17/20\n",
            "500/500 [==============================] - 31s 62ms/step - loss: 0.1233 - acc: 0.9644\n",
            "Epoch 18/20\n",
            " 37/500 [=>............................] - ETA: 28s - loss: 0.0940 - acc: 0.9662"
          ],
          "name": "stdout"
        },
        {
          "output_type": "stream",
          "text": [
            "500/500 [==============================] - 31s 62ms/step - loss: 0.1196 - acc: 0.9641\n",
            "Epoch 19/20\n",
            "353/500 [====================>.........] - ETA: 9s - loss: 0.1196 - acc: 0.9680"
          ],
          "name": "stdout"
        },
        {
          "output_type": "stream",
          "text": [
            "500/500 [==============================] - 31s 62ms/step - loss: 0.1204 - acc: 0.9659\n",
            "Epoch 20/20\n",
            "496/500 [============================>.] - ETA: 0s - loss: 0.1235 - acc: 0.9618"
          ],
          "name": "stdout"
        },
        {
          "output_type": "stream",
          "text": [
            "500/500 [==============================] - 31s 61ms/step - loss: 0.1230 - acc: 0.9620\n"
          ],
          "name": "stdout"
        }
      ]
    },
    {
      "metadata": {
        "id": "Zy0zvz9mztff",
        "colab_type": "text"
      },
      "cell_type": "markdown",
      "source": [
        "## Create CSV File for Submission"
      ]
    },
    {
      "metadata": {
        "id": "AUwNmDvzz3aK",
        "colab_type": "code",
        "colab": {
          "autoexec": {
            "startup": false,
            "wait_interval": 0
          }
        }
      },
      "cell_type": "code",
      "source": [
        "#Give every pic an id\n",
        "\n",
        "picID = pd.Series(x for x in range(1, len(xTest) + 1))\n",
        "\n",
        "#Undo one hot encoding\n",
        "yPredFinal = pd.Series(np.argmax(np.round(yPred), axis=1))\n",
        "\n",
        "#Export\n",
        "myFile = pd.DataFrame({'ImageId': picID, 'Label': yPredFinal})\n",
        "myFile = myFile.to_csv('submission1.csv', index=False)"
      ],
      "execution_count": 0,
      "outputs": []
    }
  ]
}